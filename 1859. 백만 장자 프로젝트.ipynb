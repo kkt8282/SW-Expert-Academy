{
 "cells": [
  {
   "cell_type": "code",
   "execution_count": 6,
   "metadata": {},
   "outputs": [
    {
     "name": "stdout",
     "output_type": "stream",
     "text": [
      "3\n",
      "3\n",
      "10 7 6\n",
      "#1 0\n",
      "3\n",
      "3 5 9\n",
      "#2 10\n",
      "5\n",
      "1 1 3 1 2\n",
      "#3 4\n"
     ]
    }
   ],
   "source": [
    "a=int(input())\n",
    "for i in range(a):\n",
    "    buy = []\n",
    "    result = 0\n",
    "    b=int(input())\n",
    "    c = list(map(int, input().split()))\n",
    "    for k in c:\n",
    "        if k < max(c):\n",
    "            buy.append(k)\n",
    "        elif k == max(c):\n",
    "            break\n",
    "    for u in buy:\n",
    "        result += k - u\n",
    "    print('#%d %d'%(i+1,result))"
   ]
  },
  {
   "cell_type": "code",
   "execution_count": 15,
   "metadata": {},
   "outputs": [
    {
     "name": "stdout",
     "output_type": "stream",
     "text": [
      "3\n",
      "3\n",
      "10 7 6\n",
      "#1 0\n",
      "3\n",
      "3 5 9\n",
      "#2 10\n",
      "5\n",
      "1 1 3 1 2\n",
      "#3 6\n"
     ]
    }
   ],
   "source": [
    "a=int(input())\n",
    "for i in range(a):\n",
    "    buy = []\n",
    "    result = 0\n",
    "    b=int(input())\n",
    "    c = list(map(int, input().split()))\n",
    "    for k in c:\n",
    "        if k < max(c):\n",
    "            buy.append(k)\n",
    "        elif k == max(c):\n",
    "            c.remove(k)\n",
    "            for u in buy:\n",
    "                result += k - u\n",
    "    print('#%d %d'%(i+1,result))"
   ]
  },
  {
   "cell_type": "code",
   "execution_count": null,
   "metadata": {},
   "outputs": [],
   "source": []
  }
 ],
 "metadata": {
  "kernelspec": {
   "display_name": "Python 3",
   "language": "python",
   "name": "python3"
  },
  "language_info": {
   "codemirror_mode": {
    "name": "ipython",
    "version": 3
   },
   "file_extension": ".py",
   "mimetype": "text/x-python",
   "name": "python",
   "nbconvert_exporter": "python",
   "pygments_lexer": "ipython3",
   "version": "3.7.6"
  }
 },
 "nbformat": 4,
 "nbformat_minor": 4
}
